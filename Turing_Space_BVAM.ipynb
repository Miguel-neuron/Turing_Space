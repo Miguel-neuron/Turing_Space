{
 "cells": [
  {
   "cell_type": "code",
   "execution_count": null,
   "id": "f9971535-1ede-4075-8775-ee0aab10d632",
   "metadata": {},
   "outputs": [],
   "source": [
    "import math as mt\n",
    "import numpy as np\n",
    "from numpy import random\n",
    "import matplotlib.pyplot as plt\n",
    "from numba import jit\n",
    "from mpl_toolkits import mplot3d"
   ]
  },
  {
   "cell_type": "code",
   "execution_count": null,
   "id": "ab476494-d541-4da5-98af-c0c47da71d67",
   "metadata": {},
   "outputs": [],
   "source": [
    "class Turing_Space_BVAM:\n",
    "    \n",
    "  def __init__(self,list_a,list_b,list_h):\n",
    "      \n",
    "    self.list_a = list_a\n",
    "    self.list_b = list_b\n",
    "    self.list_h = list_h\n",
    "    self.a = []\n",
    "    self.b = []\n",
    "    self.h = []\n",
    "    self.d = 5 \n",
    "\n",
    "  def Turing_Conditions(self):\n",
    "    for i in self.lista_a:\n",
    "      for j in self.lista_b:\n",
    "        for k in self.lista_h:\n",
    "          if ((1 + j) < 0) and ((j - (i * k)) > 0) and ((5 + j) > 0) and (( ((5 + j)**2) - (4*5)*(j - (i * k))) > 0):\n",
    "              \n",
    "            self.a.append(i)\n",
    "            self.b.append(j)\n",
    "            self.h.append(k)\n",
    "              \n",
    "    return self.a,self.b,self.h\n",
    "\n",
    "   def delete_repeated_elements(self):\n",
    "       turing_space_matrix = np.array([self.a,self.b,self.h])\n",
    "       turing_space_matrix = np.transpose(turing_space_matrix)\n",
    "\n",
    "       turing_space = np.unique(turing_space, axis=0)\n",
    "\n",
    "       return espacio_turing"
   ]
  },
  {
   "cell_type": "code",
   "execution_count": null,
   "id": "7ad560a4-dadc-4df4-9269-40f0370a41bd",
   "metadata": {},
   "outputs": [],
   "source": [
    "#we create an instance of the turing_space_BVAM class\n",
    "\n",
    "lista_a = np.round(np.linspace(-3,3,1000),2)\n",
    "\n",
    "lista_b = np.round(np.linspace(-3,3,1000),2)\n",
    "\n",
    "lista_h = np.round(np.linspace(0,5,100),1)\n",
    "\n",
    "space = turing_space_BVAM(list_total_numbers,list_diffusion_Dv)\n",
    "\n",
    "a, b, Dv = space.Turing_Conditions()\n",
    "\n",
    "space_Turing = space.delete_repeated_elements()"
   ]
  }
 ],
 "metadata": {
  "kernelspec": {
   "display_name": "Python 3 (ipykernel)",
   "language": "python",
   "name": "python3"
  },
  "language_info": {
   "codemirror_mode": {
    "name": "ipython",
    "version": 3
   },
   "file_extension": ".py",
   "mimetype": "text/x-python",
   "name": "python",
   "nbconvert_exporter": "python",
   "pygments_lexer": "ipython3",
   "version": "3.12.4"
  }
 },
 "nbformat": 4,
 "nbformat_minor": 5
}
