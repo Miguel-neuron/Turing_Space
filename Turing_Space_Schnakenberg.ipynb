{
 "cells": [
  {
   "cell_type": "code",
   "execution_count": 3,
   "id": "8d70de4d-e1e9-4676-8161-da74d6a0a898",
   "metadata": {},
   "outputs": [],
   "source": [
    "import math as mt\n",
    "import numpy as np\n",
    "from numpy import random\n",
    "import matplotlib.pyplot as plt\n",
    "from numba import jit"
   ]
  },
  {
   "cell_type": "code",
   "execution_count": 22,
   "id": "e02dee69-5dcf-434b-9889-f70b95e0eda0",
   "metadata": {},
   "outputs": [],
   "source": [
    "class turing_space_schnakenberg:\n",
    "    \n",
    "    def __init__(self,list_total_elements,list_Dv):\n",
    "        \n",
    "        self.list_total_elements = list_total_elements\n",
    "        self.list_Dv = list_Dv\n",
    "        self.a = []\n",
    "        self.b = []\n",
    "        self.Dv = []\n",
    "          \n",
    "    def Turing_Conditions(self):\n",
    "        \n",
    "        for i in self.list_total_elements:\n",
    "            for j in self.list_total_elements:\n",
    "                for k in self.list_Dv:\n",
    "                    if ((j-i) < ((i+j)**3)) and (((i+j)**2)>0) and ((k*(j-i))>((i+j)**3)) and ((((k*(j-i))-(i+j)**3)**2)>(4*k*((i+j)**3))):\n",
    "                        self.a.append(i)\n",
    "                        self.b.append(j)\n",
    "                        self.Dv.append(k)\n",
    "        return self.a,self.b,self.Dv\n",
    "        \n",
    "    def delete_repeated_elements(self):\n",
    "        \n",
    "        turing_space_matrix = np.array([self.a,self.b,self.Dv])\n",
    "        turing_space_matrix = np.transpose(turing_space_matrix)\n",
    "    \n",
    "        min = 0\n",
    "    \n",
    "        turing_space = np.zeros([1,3])\n",
    "    \n",
    "        for i in range(len(turing_space_matrix)):\n",
    "            max = int(turing_space_matrix[i][2])\n",
    "            if max >= min:\n",
    "                min = max\n",
    "            else:\n",
    "                new_row =np.array([turing_space_matrix[i-1]])\n",
    "                turing_space = np.append(turing_space,new_row,axis=0)\n",
    "                min = 0\n",
    "    \n",
    "        turing_space = turing_space[1:]\n",
    "    \n",
    "        turing_space = np.unique(turing_space, axis=0)\n",
    "    \n",
    "        return turing_space\n",
    "      "
   ]
  },
  {
   "cell_type": "code",
   "execution_count": 23,
   "id": "b99cecad-61a8-40e7-b4de-114a19b0055c",
   "metadata": {},
   "outputs": [],
   "source": [
    "#we create an instance of the turing_space_schnakenberg class\n",
    "\n",
    "list_total_numbers = np.round(np.linspace(0,10,1000),2)\n",
    "\n",
    "list_diffusion_Dv = np.round(np.arange(21),2)\n",
    "\n",
    "space = turing_space_schnakenberg(list_total_numbers,list_diffusion_Dv)\n",
    "\n",
    "a, b, Dv = space.Turing_Conditions()\n",
    "\n",
    "space_Turing = space.delete_repeated_elements()"
   ]
  },
  {
   "cell_type": "code",
   "execution_count": 31,
   "id": "4fbce000-c9d4-4257-a92c-b55f3cf08849",
   "metadata": {},
   "outputs": [
    {
     "ename": "NameError",
     "evalue": "name 'ax' is not defined",
     "output_type": "error",
     "traceback": [
      "\u001b[1;31m---------------------------------------------------------------------------\u001b[0m",
      "\u001b[1;31mNameError\u001b[0m                                 Traceback (most recent call last)",
      "Cell \u001b[1;32mIn[31], line 8\u001b[0m\n\u001b[0;32m      3\u001b[0m y \u001b[38;5;241m=\u001b[39m space_Turing[\u001b[38;5;241m0\u001b[39m:,\u001b[38;5;241m1\u001b[39m]\n\u001b[0;32m      5\u001b[0m z \u001b[38;5;241m=\u001b[39m space_Turing[\u001b[38;5;241m0\u001b[39m:,\u001b[38;5;241m2\u001b[39m]\n\u001b[1;32m----> 8\u001b[0m \u001b[43max\u001b[49m\u001b[38;5;241m.\u001b[39mplot(x,y,z)\n",
      "\u001b[1;31mNameError\u001b[0m: name 'ax' is not defined"
     ]
    }
   ],
   "source": [
    "x = space_Turing[0:,0]\n",
    "\n",
    "y = space_Turing[0:,1]\n",
    "\n",
    "z = space_Turing[0:,2]\n",
    "\n",
    "fig"
   ]
  },
  {
   "cell_type": "code",
   "execution_count": 28,
   "id": "9de6a705-4e34-44cd-8e48-c35370f24b27",
   "metadata": {},
   "outputs": [
    {
     "data": {
      "text/plain": [
       "array([[ 0.  ,  1.01, 20.  ],\n",
       "       [ 0.  ,  1.02, 20.  ],\n",
       "       [ 0.  ,  1.03, 20.  ],\n",
       "       ...,\n",
       "       [ 0.25,  1.07, 20.  ],\n",
       "       [ 0.25,  1.08, 20.  ],\n",
       "       [ 0.25,  1.09, 20.  ]])"
      ]
     },
     "execution_count": 28,
     "metadata": {},
     "output_type": "execute_result"
    }
   ],
   "source": [
    "space_Turing[0:]"
   ]
  }
 ],
 "metadata": {
  "kernelspec": {
   "display_name": "Python 3 (ipykernel)",
   "language": "python",
   "name": "python3"
  },
  "language_info": {
   "codemirror_mode": {
    "name": "ipython",
    "version": 3
   },
   "file_extension": ".py",
   "mimetype": "text/x-python",
   "name": "python",
   "nbconvert_exporter": "python",
   "pygments_lexer": "ipython3",
   "version": "3.12.4"
  }
 },
 "nbformat": 4,
 "nbformat_minor": 5
}
