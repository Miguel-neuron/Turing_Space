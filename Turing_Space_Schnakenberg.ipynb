{
 "cells": [
  {
   "cell_type": "code",
   "execution_count": 3,
   "id": "8d70de4d-e1e9-4676-8161-da74d6a0a898",
   "metadata": {},
   "outputs": [],
   "source": [
    "import math as mt\n",
    "import numpy as np\n",
    "from numpy import random\n",
    "import matplotlib.pyplot as plt\n",
    "from numba import jit"
   ]
  },
  {
   "cell_type": "code",
   "execution_count": 7,
   "id": "e02dee69-5dcf-434b-9889-f70b95e0eda0",
   "metadata": {},
   "outputs": [],
   "source": [
    "class turing_space_schnakenberg:\n",
    "  def __init__(self,list_total_elements,list_Dv):\n",
    "    self.list_total_elements = list_total_elements\n",
    "    self.list_Dv = list_Dv\n",
    "    self.a = []\n",
    "    self.b = []\n",
    "    self.Dv = []\n",
    "  def Turing_Conditions(self):\n",
    "    for i in self.list_total_elements:\n",
    "      for j in self.list_total_elements:\n",
    "        for k in self.list_Dv:\n",
    "          if ((j-i) < ((i+j)**3)) and (((i+j)**2)>0) and ((k*(j-i))>((i+j)**3)) and ((((k*(j-i))-(i+j)**3)**2)>(4*k*((i+j)**3))):\n",
    "            self.a.append(i)\n",
    "            self.b.append(j)\n",
    "            self.Dv.append(k)\n",
    "    return self.a,self.b,self.Dv\n",
    "\n",
    "  def delete_repeated_elements(self):\n",
    "    matriz_espacio_turing = np.array([self.a,self.b,self.d])\n",
    "    matriz_espacio_turing = np.transpose(matriz_espacio_turing)\n",
    "\n",
    "    min = 0\n",
    "\n",
    "    espacio_turing = np.zeros([1,3])\n",
    "\n",
    "    for i in range(len(matriz_espacio_turing)): #esto va iterando en filas\n",
    "      max = int(matriz_espacio_turing[i][2])\n",
    "      if max >= min:\n",
    "        min = max\n",
    "      else:\n",
    "        nuevo_renglon =np.array([matriz_espacio_turing[i-1]])\n",
    "        espacio_turing = np.append(espacio_turing,nuevo_renglon,axis=0)\n",
    "        min = 0\n",
    "\n",
    "    espacio_turing = espacio_turing[1:]\n",
    "\n",
    "    espacio_turing = np.unique(espacio_turing, axis=0)\n",
    "\n",
    "    return espacio_turing\n",
    "      "
   ]
  },
  {
   "cell_type": "code",
   "execution_count": null,
   "id": "b99cecad-61a8-40e7-b4de-114a19b0055c",
   "metadata": {},
   "outputs": [],
   "source": [
    "#creamos espacio turing\n",
    "list_total_numbers = np.round(np.linspace(0,10,1000),2)\n",
    "list_diffusion_Dv = np.round(np.arange(21),2)\n",
    "\n",
    "space = turing_space_schnakenberg(list_total_numbers,list_diffusion_Dv)\n",
    "\n",
    "a,b,Dv = space.Turing_Conditions()"
   ]
  },
  {
   "cell_type": "code",
   "execution_count": 6,
   "id": "02c6cce8-a4ae-44e9-8fd5-52cfa059f690",
   "metadata": {},
   "outputs": [
    {
     "ename": "NameError",
     "evalue": "name 'delete_repeated_elements' is not defined",
     "output_type": "error",
     "traceback": [
      "\u001b[1;31m---------------------------------------------------------------------------\u001b[0m",
      "\u001b[1;31mNameError\u001b[0m                                 Traceback (most recent call last)",
      "Cell \u001b[1;32mIn[6], line 1\u001b[0m\n\u001b[1;32m----> 1\u001b[0m espacio_turings \u001b[38;5;241m=\u001b[39m \u001b[43mdelete_repeated_elements\u001b[49m()\n",
      "\u001b[1;31mNameError\u001b[0m: name 'delete_repeated_elements' is not defined"
     ]
    }
   ],
   "source": [
    "espacio_turings = delete_repeated_elements()"
   ]
  }
 ],
 "metadata": {
  "kernelspec": {
   "display_name": "Python 3 (ipykernel)",
   "language": "python",
   "name": "python3"
  },
  "language_info": {
   "codemirror_mode": {
    "name": "ipython",
    "version": 3
   },
   "file_extension": ".py",
   "mimetype": "text/x-python",
   "name": "python",
   "nbconvert_exporter": "python",
   "pygments_lexer": "ipython3",
   "version": "3.12.4"
  }
 },
 "nbformat": 4,
 "nbformat_minor": 5
}
